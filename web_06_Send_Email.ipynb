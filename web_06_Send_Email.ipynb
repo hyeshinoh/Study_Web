{
 "cells": [
  {
   "cell_type": "markdown",
   "metadata": {},
   "source": [
    "# Send Email: Python으로 email 보내기\n",
    "- 자동화에 유용하게 사용할 수 있는 파이썬 라이브러리를 배워보자. python으로 이메일 보내기!\n",
    "    - e.g. 광고메일 등을 보낼 수 있음\n",
    "    - e.g. 머신러닝 모델을 학습시켜놓고 결과 데이터를 csv 파일로 메일을 받아볼 수 있음"
   ]
  },
  {
   "cell_type": "markdown",
   "metadata": {},
   "source": [
    "# 1. Preparation"
   ]
  },
  {
   "cell_type": "markdown",
   "metadata": {},
   "source": [
    "파이썬으로 이메일을 보내기 위한 준비를 해준다."
   ]
  },
  {
   "cell_type": "markdown",
   "metadata": {},
   "source": [
    "## 1.1 Importing necessary libraries"
   ]
  },
  {
   "cell_type": "markdown",
   "metadata": {},
   "source": [
    "필요한 패키지들을 import해준다."
   ]
  },
  {
   "cell_type": "code",
   "execution_count": 1,
   "metadata": {},
   "outputs": [],
   "source": [
    "import smtplib, os, pickle  # smtplib: 메일 전송을 위한 패키지\n",
    "from email import encoders  # 파일전송을 할 때 이미지나 문서 동영상 등의 파일을 문자열로 변환할 때 사용할 패키지\n",
    "from email.mime.text import MIMEText   # 본문내용을 전송할 때 사용되는 모듈\n",
    "from email.mime.multipart import MIMEMultipart   # 메시지를 보낼 때 메시지에 대한 모듈\n",
    "from email.mime.base import MIMEBase     # 파일을 전송할 때 사용되는 모듈"
   ]
  },
  {
   "cell_type": "markdown",
   "metadata": {},
   "source": [
    "메일을 보낼 주소들을 미리 저장해준다.  \n",
    "테스트를 위해 여러가지 주소로 보내고 싶은데, 나는 계정을 여러 개 갖고 있지 않으므로, \n",
    "내 이메일 주소인 hyeshinoh@gmail.com에서 hyeshinoh 뒤에 '+'와 아무 글자를 넣어주면 마치 여러 개의 이메일 주소인 것처럼 사용할 수 있다. 이렇게 쓰면 메일은 모두 hyeshinoh@gmail.com로 전송된다."
   ]
  },
  {
   "cell_type": "code",
   "execution_count": 2,
   "metadata": {},
   "outputs": [],
   "source": [
    "toAddr = [\"panda706@naver.com\", \"hyeshinoh+11@gmail.com\", \"hyeshinoh+h@gmail.com\"]"
   ]
  },
  {
   "cell_type": "markdown",
   "metadata": {},
   "source": [
    "## 1.2 Setting login information: email & password\n",
    "password는 직접 노출하면 유출의 위험이 있으므로 아래와 같이 pickle 파일로 저장해서 이용하는 것이 좋다."
   ]
  },
  {
   "cell_type": "code",
   "execution_count": 4,
   "metadata": {},
   "outputs": [],
   "source": [
    "# pw = \"본인의 pw\"    \n",
    "# pickle.dump(pw, open(\"pw.pickle\", 'wb'))"
   ]
  },
  {
   "cell_type": "code",
   "execution_count": 3,
   "metadata": {},
   "outputs": [],
   "source": [
    "email = \"hyeshinoh@gmail.com\"\n",
    "pw = pickle.load(open('pw.pickle', 'rb'))"
   ]
  },
  {
   "cell_type": "markdown",
   "metadata": {},
   "source": [
    "# 2. Send text"
   ]
  },
  {
   "cell_type": "markdown",
   "metadata": {},
   "source": [
    "## 2.1 Access smtp server"
   ]
  },
  {
   "cell_type": "markdown",
   "metadata": {},
   "source": [
    "smtp object를 생성한다."
   ]
  },
  {
   "cell_type": "code",
   "execution_count": 27,
   "metadata": {},
   "outputs": [
    {
     "data": {
      "text/plain": [
       "(235, b'2.7.0 Accepted')"
      ]
     },
     "execution_count": 27,
     "metadata": {},
     "output_type": "execute_result"
    }
   ],
   "source": [
    "smtp = smtplib.SMTP('smtp.gmail.com', 587)   # 587: 서버의 포트번호\n",
    "smtp.ehlo()\n",
    "smtp.starttls()   # tls방식으로 접속, 그 포트번호가 587\n",
    "# smtp.login('hyeshinoh@gmail.com', pickle.load( open('../pw.pickle', 'rb') ))\n",
    "smtp.login('hyeshinoh@gmail.com', pw)"
   ]
  },
  {
   "cell_type": "markdown",
   "metadata": {},
   "source": [
    "## 2.2 Make message"
   ]
  },
  {
   "cell_type": "markdown",
   "metadata": {},
   "source": [
    "msg object를 생성하고 제목을 넣어준다."
   ]
  },
  {
   "cell_type": "code",
   "execution_count": 20,
   "metadata": {},
   "outputs": [],
   "source": [
    "msg = MIMEMultipart()    #msg obj.\n",
    "msg['Subject'] = 'hyeshin의 SMTP Send Text 테스트'"
   ]
  },
  {
   "cell_type": "markdown",
   "metadata": {},
   "source": [
    "msg object에 본문(text msg)을 추가해준다."
   ]
  },
  {
   "cell_type": "code",
   "execution_count": 21,
   "metadata": {},
   "outputs": [],
   "source": [
    "# text msg\n",
    "part = MIMEText('SMTP로 메일 보내기 본문 메시지입니다.')\n",
    "msg.attach(part)   #msg에 part obj.를 추가해줌"
   ]
  },
  {
   "cell_type": "code",
   "execution_count": 22,
   "metadata": {},
   "outputs": [
    {
     "data": {
      "text/plain": [
       "<email.mime.multipart.MIMEMultipart at 0x10d55d5f8>"
      ]
     },
     "execution_count": 22,
     "metadata": {},
     "output_type": "execute_result"
    }
   ],
   "source": [
    "msg"
   ]
  },
  {
   "cell_type": "markdown",
   "metadata": {},
   "source": [
    "## 2.3 email 전송하기"
   ]
  },
  {
   "cell_type": "code",
   "execution_count": 23,
   "metadata": {},
   "outputs": [
    {
     "name": "stdout",
     "output_type": "stream",
     "text": [
      "panda706@naver.com\n",
      "hyeshinoh+11@gmail.com\n",
      "hyeshinoh+h@gmail.com\n"
     ]
    }
   ],
   "source": [
    "for addr in toAddr:\n",
    "    msg[\"To\"] = addr\n",
    "    smtp.sendmail(\"hyeshinoh@gmail.com\", addr, msg.as_string())\n",
    "        #msg는 object이기 때문에 전송을 위해 .as_string()으로 문자열로 바꿔야함(parsing)\n",
    "    print(addr)"
   ]
  },
  {
   "cell_type": "markdown",
   "metadata": {},
   "source": [
    "메일이 다음과 같이 잘 도착했다!\n",
    "- naver메일\n",
    "![](https://github.com/hyeshinoh/Study_Web/blob/master/web_06_Send_Email_naver_mail_001.png?raw=true)\n",
    "- gmail\n",
    "![](https://github.com/hyeshinoh/Study_Web/blob/master/web_06_Send_Email_gmail_001.png?raw=true)"
   ]
  },
  {
   "cell_type": "markdown",
   "metadata": {},
   "source": [
    "## 2.4 HTML code 추가하기"
   ]
  },
  {
   "cell_type": "code",
   "execution_count": 25,
   "metadata": {},
   "outputs": [
    {
     "data": {
      "text/plain": [
       "<email.mime.multipart.MIMEMultipart at 0x10d55d5f8>"
      ]
     },
     "execution_count": 25,
     "metadata": {},
     "output_type": "execute_result"
    }
   ],
   "source": [
    "part_html = MIMEText('<br><a href=\"https://github.com/hyeshinoh/\">hyeshin github</a>', 'html')\n",
    "msg.attach(part_html)\n",
    "msg  #msg 상태: 제목, 본문(text), html 코드"
   ]
  },
  {
   "cell_type": "markdown",
   "metadata": {},
   "source": [
    "## 2.5 email 전송하기"
   ]
  },
  {
   "cell_type": "code",
   "execution_count": 28,
   "metadata": {},
   "outputs": [
    {
     "name": "stdout",
     "output_type": "stream",
     "text": [
      "panda706@naver.com\n",
      "hyeshinoh+11@gmail.com\n",
      "hyeshinoh+h@gmail.com\n"
     ]
    }
   ],
   "source": [
    "# email 전송\n",
    "for addr in toAddr:\n",
    "    msg[\"To\"] = addr\n",
    "    smtp.sendmail(\"hyeshinoh@gmail.com\", addr, msg.as_string())\n",
    "    print(addr)"
   ]
  },
  {
   "cell_type": "markdown",
   "metadata": {},
   "source": [
    "# 3. Send File\n",
    "이제 파일을 첨부해서 이메일을 보내보자"
   ]
  },
  {
   "cell_type": "markdown",
   "metadata": {},
   "source": [
    "## 3.1 Access smtp server"
   ]
  },
  {
   "cell_type": "markdown",
   "metadata": {},
   "source": [
    "smtp object를 다시 생성해보자."
   ]
  },
  {
   "cell_type": "code",
   "execution_count": 29,
   "metadata": {},
   "outputs": [
    {
     "data": {
      "text/plain": [
       "(221, b'2.0.0 closing connection o68-v6sm26409410pfi.180 - gsmtp')"
      ]
     },
     "execution_count": 29,
     "metadata": {},
     "output_type": "execute_result"
    }
   ],
   "source": [
    "# smtp close\n",
    "smtp.quit()"
   ]
  },
  {
   "cell_type": "code",
   "execution_count": 4,
   "metadata": {},
   "outputs": [
    {
     "data": {
      "text/plain": [
       "(235, b'2.7.0 Accepted')"
      ]
     },
     "execution_count": 4,
     "metadata": {},
     "output_type": "execute_result"
    }
   ],
   "source": [
    "# Access smtp server\n",
    "smtp = smtplib.SMTP('smtp.gmail.com', 587)   # 587: 서버의 포트번호\n",
    "smtp.ehlo()\n",
    "smtp.starttls()   \n",
    "smtp.login('hyeshinoh@gmail.com', pw)"
   ]
  },
  {
   "cell_type": "markdown",
   "metadata": {},
   "source": [
    "## 3.2 Make message"
   ]
  },
  {
   "cell_type": "markdown",
   "metadata": {},
   "source": [
    "msg object를 생성하고 제목을 넣어준다."
   ]
  },
  {
   "cell_type": "code",
   "execution_count": 5,
   "metadata": {},
   "outputs": [],
   "source": [
    "msg = MIMEMultipart()\n",
    "msg['Subject'] = 'SMTP send file 테스트'"
   ]
  },
  {
   "cell_type": "markdown",
   "metadata": {},
   "source": [
    "msg object에 본문(text msg)을 추가해준다."
   ]
  },
  {
   "cell_type": "code",
   "execution_count": 6,
   "metadata": {},
   "outputs": [],
   "source": [
    "part = MIMEText('SMTP로 send file 본문 메시지')\n",
    "msg.attach(part)"
   ]
  },
  {
   "cell_type": "markdown",
   "metadata": {},
   "source": [
    "파일을 첨부해보자. 단, javascript file은 보안 상 이유로 보낼 수 없게 되어 있음"
   ]
  },
  {
   "cell_type": "code",
   "execution_count": 7,
   "metadata": {},
   "outputs": [
    {
     "data": {
      "text/plain": [
       "<email.mime.multipart.MIMEMultipart at 0x1159127f0>"
      ]
     },
     "execution_count": 7,
     "metadata": {},
     "output_type": "execute_result"
    }
   ],
   "source": [
    "# Attach FILE\n",
    "path = 'apple.mp4'\n",
    "# ctype = 'application/octet-stream'\n",
    "# maintype, subtype = ctype.split('/', 1)\n",
    "with open(path, 'rb') as f:\n",
    "    part = MIMEBase(\"application\", \"octet-stream\")\n",
    "    part.set_payload(f.read())    #payload: osi 7-layers\n",
    "    encoders.encode_base64(part)  #base64 encoding: 영상, 이미지 파일을 문자열 형태로 변환\n",
    "    part.add_header('Content-Disposition', 'attachment', filename=path)\n",
    "    msg.attach(part)\n",
    "msg  # 제목, 본문, 파일"
   ]
  },
  {
   "cell_type": "markdown",
   "metadata": {},
   "source": [
    "## 3.3 email 전송하기"
   ]
  },
  {
   "cell_type": "code",
   "execution_count": 8,
   "metadata": {},
   "outputs": [
    {
     "name": "stdout",
     "output_type": "stream",
     "text": [
      "panda706@naver.com\n",
      "hyeshinoh+11@gmail.com\n",
      "hyeshinoh+h@gmail.com\n"
     ]
    }
   ],
   "source": [
    "for addr in toAddr:\n",
    "    msg[\"To\"] = addr\n",
    "    smtp.sendmail(\"hyeshinoh@gmail.com\", addr, msg.as_string())\n",
    "    print(addr)"
   ]
  },
  {
   "cell_type": "markdown",
   "metadata": {},
   "source": [
    "메일이 다음과 같이 잘 도착했다!\n",
    "- naver메일\n",
    "![](https://github.com/hyeshinoh/Study_Web/blob/master/web_06_Send_Email_naver_mail_002.png?raw=true)\n",
    "- gmail\n",
    "![](https://github.com/hyeshinoh/Study_Web/blob/master/web_06_Send_Email_gmail_002.png?raw=true)"
   ]
  },
  {
   "cell_type": "code",
   "execution_count": 21,
   "metadata": {},
   "outputs": [
    {
     "data": {
      "text/plain": [
       "(221, b'2.0.0 closing connection d22-v6sm9509327pfk.69 - gsmtp')"
      ]
     },
     "execution_count": 21,
     "metadata": {},
     "output_type": "execute_result"
    }
   ],
   "source": [
    "# smtp close\n",
    "smtp.quit()"
   ]
  },
  {
   "cell_type": "markdown",
   "metadata": {},
   "source": [
    "#### 참고자료\n",
    "- 패스트캠퍼스, ⟪데이터사이언스스쿨 8기⟫ 수업자료"
   ]
  }
 ],
 "metadata": {
  "kernelspec": {
   "display_name": "Python 3",
   "language": "python",
   "name": "python3"
  },
  "language_info": {
   "codemirror_mode": {
    "name": "ipython",
    "version": 3
   },
   "file_extension": ".py",
   "mimetype": "text/x-python",
   "name": "python",
   "nbconvert_exporter": "python",
   "pygments_lexer": "ipython3",
   "version": "3.6.5"
  }
 },
 "nbformat": 4,
 "nbformat_minor": 2
}
