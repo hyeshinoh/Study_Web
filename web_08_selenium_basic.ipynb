{
 "cells": [
  {
   "cell_type": "markdown",
   "metadata": {},
   "source": [
    "# Selenium - Basic"
   ]
  },
  {
   "cell_type": "markdown",
   "metadata": {},
   "source": [
    "#### 다룰 내용\n",
    "1. Selenium이란\n",
    "2. Selenium 설치\n",
    "3. Selenium 기본 사용법\n",
    "4. Selenium 파일 업로드"
   ]
  },
  {
   "cell_type": "markdown",
   "metadata": {},
   "source": [
    "## 1. Selenium이란\n",
    "- Selenium documentation (http://www.seleniumhq.org/) \n",
    "- 웹 서비스를 테스트 하기 위해 만들어진 브라우저 자동화 라이브러리 (다른 목적으로도 사용할 수 있음)\n",
    "- 동적인 웹페이지 크롤링에 이용\n",
    "- 여러가지 브라우저를 지원하지만 Firefox는 최신 버전 지원 X하는 등 문제가 있을 수도 \n",
    "    - 우리는 가장 많이 사용하는 Chrome driver 사용\n",
    "- 여러가지 OS, 다른 언어에서도 사용 가능"
   ]
  },
  {
   "cell_type": "markdown",
   "metadata": {},
   "source": [
    "## 2. Selenium 설치\n",
    "### 2.1 Install chrome driver\n",
    "- [다운로드 링크](https://sites.google.com/a/chromium.org/chromedriver/home) ← 여기에서 다운로드\n",
    "- Mac: chrome driver를 글로벌하게 사용하기 위해 경로 변경 \n",
    "    - `$ mv ~/Donwloads/chromedriver /usr/local/bin`\n",
    "- Windows: 환경변수 추가\n",
    "- 환경변수 설정이 잘 되지 않을 때는 같은 폴더에 chromedriver.exe를 넣거나 코드에 path를 넣어주면 됨\n",
    "\n",
    "\n",
    "### 2.2 Install selenium\n",
    "- Mac: `$ sudo pip3 install selenium`\n",
    "- Windows: `$ conda install -c conda-forge selenium`\n",
    "\n"
   ]
  },
  {
   "cell_type": "code",
   "execution_count": 1,
   "metadata": {},
   "outputs": [],
   "source": [
    "from selenium import webdriver"
   ]
  },
  {
   "cell_type": "markdown",
   "metadata": {},
   "source": [
    "## 3. Selenium 기본 사용법"
   ]
  },
  {
   "cell_type": "markdown",
   "metadata": {},
   "source": [
    "### 3.1 브라우저 open"
   ]
  },
  {
   "cell_type": "code",
   "execution_count": 2,
   "metadata": {},
   "outputs": [],
   "source": [
    "driver = webdriver.Chrome()     # 객체를 만들어서 driver에 넣어줌"
   ]
  },
  {
   "cell_type": "markdown",
   "metadata": {},
   "source": [
    "### 3.2 페이지 이동\n",
    "- url에 꼭 http를 포함해야 함"
   ]
  },
  {
   "cell_type": "code",
   "execution_count": 7,
   "metadata": {},
   "outputs": [],
   "source": [
    "driver.get(\"http://naver.com\")"
   ]
  },
  {
   "cell_type": "markdown",
   "metadata": {},
   "source": [
    "### 3.3 window size 조절\n",
    "- 반응형 웹페이지 테스트에 이용할 수 있음"
   ]
  },
  {
   "cell_type": "code",
   "execution_count": 4,
   "metadata": {},
   "outputs": [],
   "source": [
    "driver.set_window_size(600, 800)    "
   ]
  },
  {
   "cell_type": "markdown",
   "metadata": {},
   "source": [
    "### 3.4 브라우저 스크롤 조절\n",
    "- 함수가 없는 경우에는 javascript 코드를 실행해서 컨트롤"
   ]
  },
  {
   "cell_type": "code",
   "execution_count": 5,
   "metadata": {},
   "outputs": [],
   "source": [
    "script = \"window.scrollTo(200,300);\"\n",
    "driver.execute_script(script)"
   ]
  },
  {
   "cell_type": "markdown",
   "metadata": {},
   "source": [
    "###  3.5 윈도우 객체 저장\n",
    "- 윈도우 객체를 저장하면 브라우저에 여러 개의 탭이 있을 때 저장되어 있는 윈도우 객체의 탭으로 돌아올 수 있음"
   ]
  },
  {
   "cell_type": "code",
   "execution_count": 6,
   "metadata": {},
   "outputs": [
    {
     "data": {
      "text/plain": [
       "'CDwindow-1327F53EB33E1BF8CD1ECD3C85E4B347'"
      ]
     },
     "execution_count": 6,
     "metadata": {},
     "output_type": "execute_result"
    }
   ],
   "source": [
    "main_window = driver.current_window_handle\n",
    "main_window"
   ]
  },
  {
   "cell_type": "markdown",
   "metadata": {},
   "source": [
    "### 3.6 새로운 윈도우 탭 열기"
   ]
  },
  {
   "cell_type": "markdown",
   "metadata": {},
   "source": [
    "javascript 코드로 새로운 탭을 열 수 있음"
   ]
  },
  {
   "cell_type": "code",
   "execution_count": 8,
   "metadata": {},
   "outputs": [],
   "source": [
    "script = \"window.open('http://google.com');\"\n",
    "driver.execute_script(script)"
   ]
  },
  {
   "cell_type": "markdown",
   "metadata": {},
   "source": [
    "새로운 탭을 열었지만 아래와 같이 current_window(포커스)가 자동으로 바뀌지는 않음"
   ]
  },
  {
   "cell_type": "code",
   "execution_count": 9,
   "metadata": {},
   "outputs": [
    {
     "data": {
      "text/plain": [
       "'CDwindow-1327F53EB33E1BF8CD1ECD3C85E4B347'"
      ]
     },
     "execution_count": 9,
     "metadata": {},
     "output_type": "execute_result"
    }
   ],
   "source": [
    "driver.current_window_handle"
   ]
  },
  {
   "cell_type": "markdown",
   "metadata": {},
   "source": [
    "### 3.7 현재 열려있는 윈도우 객체 확인"
   ]
  },
  {
   "cell_type": "code",
   "execution_count": 10,
   "metadata": {},
   "outputs": [
    {
     "data": {
      "text/plain": [
       "['CDwindow-1327F53EB33E1BF8CD1ECD3C85E4B347',\n",
       " 'CDwindow-D8D228E9A26224583A54A676F95612EA']"
      ]
     },
     "execution_count": 10,
     "metadata": {},
     "output_type": "execute_result"
    }
   ],
   "source": [
    "windows = driver.window_handles\n",
    "windows"
   ]
  },
  {
   "cell_type": "markdown",
   "metadata": {},
   "source": [
    "### 3.8 윈도우 포커스 변경\n",
    "- current window가 자동으로 바뀌지 않았기 때문에 바꿔주기\n",
    "- 이 방법으로 탭을 이동하면서 작업할 수 있음"
   ]
  },
  {
   "cell_type": "code",
   "execution_count": 11,
   "metadata": {},
   "outputs": [],
   "source": [
    "driver.switch_to_window(windows[1])"
   ]
  },
  {
   "cell_type": "code",
   "execution_count": 12,
   "metadata": {},
   "outputs": [
    {
     "data": {
      "text/plain": [
       "'CDwindow-D8D228E9A26224583A54A676F95612EA'"
      ]
     },
     "execution_count": 12,
     "metadata": {},
     "output_type": "execute_result"
    }
   ],
   "source": [
    "driver.current_window_handle"
   ]
  },
  {
   "cell_type": "code",
   "execution_count": 13,
   "metadata": {},
   "outputs": [],
   "source": [
    "driver.switch_to_window(main_window)"
   ]
  },
  {
   "cell_type": "markdown",
   "metadata": {},
   "source": [
    "### 3.9 페이지 새로고침"
   ]
  },
  {
   "cell_type": "code",
   "execution_count": 14,
   "metadata": {},
   "outputs": [],
   "source": [
    "script = \"location.reload();\"\n",
    "driver.execute_script(script)"
   ]
  },
  {
   "cell_type": "markdown",
   "metadata": {},
   "source": [
    "### 3.10 alert messege 처리"
   ]
  },
  {
   "cell_type": "markdown",
   "metadata": {},
   "source": [
    "alert messege 만들기"
   ]
  },
  {
   "cell_type": "code",
   "execution_count": 15,
   "metadata": {},
   "outputs": [],
   "source": [
    "script = \"alert('selenium test');\"\n",
    "driver.execute_script(script)"
   ]
  },
  {
   "cell_type": "markdown",
   "metadata": {},
   "source": [
    "switch_to_alert 함수로 alert 변수에 alert 객체를 저장할 수 있음  \n",
    "alert 객의 text 값을 확인해보면 alert의 메세지를 문자열로 확인 가능"
   ]
  },
  {
   "cell_type": "code",
   "execution_count": 16,
   "metadata": {},
   "outputs": [
    {
     "data": {
      "text/plain": [
       "'selenium test'"
      ]
     },
     "execution_count": 16,
     "metadata": {},
     "output_type": "execute_result"
    }
   ],
   "source": [
    "alert = driver.switch_to_alert()\n",
    "alert.text"
   ]
  },
  {
   "cell_type": "markdown",
   "metadata": {},
   "source": [
    "확인 버튼 누르기"
   ]
  },
  {
   "cell_type": "code",
   "execution_count": 17,
   "metadata": {},
   "outputs": [],
   "source": [
    "alert.accept()"
   ]
  },
  {
   "cell_type": "markdown",
   "metadata": {},
   "source": [
    "### 3.11 confirm 처리\n",
    "- confirm은 alert과 달리 확인/취소 버튼이 함께 있음"
   ]
  },
  {
   "cell_type": "code",
   "execution_count": 22,
   "metadata": {},
   "outputs": [],
   "source": [
    "script = \"confirm('data')\"\n",
    "driver.execute_script(script)"
   ]
  },
  {
   "cell_type": "code",
   "execution_count": 23,
   "metadata": {},
   "outputs": [
    {
     "data": {
      "text/plain": [
       "'data'"
      ]
     },
     "execution_count": 23,
     "metadata": {},
     "output_type": "execute_result"
    }
   ],
   "source": [
    "confirm = driver.switch_to_alert()\n",
    "confirm.text"
   ]
  },
  {
   "cell_type": "code",
   "execution_count": 24,
   "metadata": {},
   "outputs": [],
   "source": [
    "# confirm.accept()   # 확인 버튼 클릭\n",
    "confirm.dismiss()    # 취소 버튼 클릭"
   ]
  },
  {
   "cell_type": "markdown",
   "metadata": {},
   "source": [
    "### 3.12 input창에 문자열 입력하기\n",
    "- send_keys()를 이용하여 웹페이지의 input 태그에 문자열을 입력할 수 있음\n",
    "- find_element_by_css_selector\n",
    "    - html 코드의 태그 위치에 접근하는 함수\n",
    "    - 파라미터로 css selector를 넣어주면 해당 selector의 태그 위치로 접근"
   ]
  },
  {
   "cell_type": "markdown",
   "metadata": {},
   "source": [
    "네이버 검색창에 \"데이터사이언스\" 입력하기"
   ]
  },
  {
   "cell_type": "code",
   "execution_count": 27,
   "metadata": {},
   "outputs": [],
   "source": [
    "driver.find_element_by_css_selector(\"#query\").send_keys(\"데이터사이언스\")"
   ]
  },
  {
   "cell_type": "markdown",
   "metadata": {},
   "source": [
    "### 3.13 버튼 클릭하기 (click event 발생)"
   ]
  },
  {
   "cell_type": "markdown",
   "metadata": {},
   "source": [
    "검색 버튼 눌러 \"데이터사이언스\" 검색 결과 확인하기"
   ]
  },
  {
   "cell_type": "code",
   "execution_count": 28,
   "metadata": {},
   "outputs": [],
   "source": [
    "driver.find_element_by_css_selector(\"#search_btn\").click()"
   ]
  },
  {
   "cell_type": "markdown",
   "metadata": {},
   "source": [
    "### 3.14 끝내기"
   ]
  },
  {
   "cell_type": "markdown",
   "metadata": {},
   "source": [
    "#### 창 닫기 - 하나의 윈도우 창을 닫음"
   ]
  },
  {
   "cell_type": "code",
   "execution_count": 25,
   "metadata": {},
   "outputs": [],
   "source": [
    "driver.close()"
   ]
  },
  {
   "cell_type": "markdown",
   "metadata": {},
   "source": [
    "#### 브라우저 닫기"
   ]
  },
  {
   "cell_type": "code",
   "execution_count": 134,
   "metadata": {},
   "outputs": [],
   "source": [
    "driver.quit()"
   ]
  },
  {
   "cell_type": "markdown",
   "metadata": {},
   "source": [
    "## 4. Selenium 파일 업로드\n",
    "- google vision api 페이지에 이미지 파일을 업로드\n",
    "- iframe으로 이동"
   ]
  },
  {
   "cell_type": "markdown",
   "metadata": {},
   "source": [
    "### 4.1 webdriver 실행하고 google vision api로 이동"
   ]
  },
  {
   "cell_type": "code",
   "execution_count": 135,
   "metadata": {},
   "outputs": [],
   "source": [
    "url = \"https://cloud.google.com/vision/\"\n",
    "driver = webdriver.Chrome()\n",
    "driver.get(url)"
   ]
  },
  {
   "cell_type": "code",
   "execution_count": 136,
   "metadata": {},
   "outputs": [],
   "source": [
    "driver.set_window_size(800, 800)"
   ]
  },
  {
   "cell_type": "code",
   "execution_count": 137,
   "metadata": {},
   "outputs": [],
   "source": [
    "script = \"window.scrollTo(0,1200);\"\n",
    "driver.execute_script(script)"
   ]
  },
  {
   "cell_type": "markdown",
   "metadata": {},
   "source": [
    "### 4.2 iframe으로 포커스 이동\n",
    "- iframe 안에 있는 내용을 crawling하기 위해서는 꼭 iframe으로 focus switch!"
   ]
  },
  {
   "cell_type": "code",
   "execution_count": 138,
   "metadata": {},
   "outputs": [],
   "source": [
    "iframe = driver.find_element_by_css_selector('#vision_demo_section > iframe')\n",
    "driver.switch_to_frame(iframe)"
   ]
  },
  {
   "cell_type": "code",
   "execution_count": 111,
   "metadata": {},
   "outputs": [],
   "source": [
    "## iframe에서 메인 프레임으로 돌아가기\n",
    "# driver.switch_to_default_content()"
   ]
  },
  {
   "cell_type": "markdown",
   "metadata": {},
   "source": [
    "### 4.3 파일 업로드\n",
    "- 절대경로로 작성해야 함"
   ]
  },
  {
   "cell_type": "code",
   "execution_count": 139,
   "metadata": {},
   "outputs": [],
   "source": [
    "file_path = \"/Users/hyeshinoh/Workspace/Study_Web/dog.png\"\n",
    "driver.find_element_by_css_selector('#input').send_keys(file_path)"
   ]
  },
  {
   "cell_type": "markdown",
   "metadata": {},
   "source": [
    "### 4.4 분석 결과 확인"
   ]
  },
  {
   "cell_type": "markdown",
   "metadata": {},
   "source": [
    "#### (1) Web 결과 가져오기"
   ]
  },
  {
   "cell_type": "markdown",
   "metadata": {},
   "source": [
    "이미지 분석 결과에서 Web 탭을 선택"
   ]
  },
  {
   "cell_type": "code",
   "execution_count": 140,
   "metadata": {},
   "outputs": [],
   "source": [
    "driver.find_element_by_css_selector('#webDetection').click()"
   ]
  },
  {
   "cell_type": "markdown",
   "metadata": {},
   "source": [
    "분석 결과를 가져오기"
   ]
  },
  {
   "cell_type": "code",
   "execution_count": 141,
   "metadata": {},
   "outputs": [
    {
     "name": "stdout",
     "output_type": "stream",
     "text": [
      "Puppy 1.31475\n",
      "French Bulldog 0.93836\n",
      "Bulldog 0.74869\n",
      "Shih Tzu 0.59496\n",
      "Beagle 0.58407\n",
      "Yorkshire Terrier 0.53742\n",
      "Dog training 0.5303\n",
      " 0.5142\n",
      "Pet 0.4853\n",
      "Dog breed 0.3965\n",
      "stock.xchng 0.3691\n",
      "Dog breeding 0.3677\n",
      "Training 0.3125\n",
      "Cuteness 0.3003\n",
      "Dog 0\n"
     ]
    }
   ],
   "source": [
    "web_results = driver.find_elements_by_css_selector('#card > .container > .row')[:15]\n",
    "for web_result in web_results:\n",
    "    print(\n",
    "        web_result.find_element_by_css_selector(\".name\").text,\n",
    "        web_result.find_element_by_css_selector(\".score\").text\n",
    "    )        "
   ]
  },
  {
   "cell_type": "markdown",
   "metadata": {},
   "source": [
    "#### (2) Document 결과 (사진 속 text) 가져오기"
   ]
  },
  {
   "cell_type": "markdown",
   "metadata": {},
   "source": [
    "이미지 분석 결과에서 Document 탭을 선택"
   ]
  },
  {
   "cell_type": "code",
   "execution_count": 142,
   "metadata": {},
   "outputs": [],
   "source": [
    "driver.find_element_by_css_selector(\"#fullTextAnnotation\").click()"
   ]
  },
  {
   "cell_type": "markdown",
   "metadata": {},
   "source": [
    "text 데이터를 가져오기"
   ]
  },
  {
   "cell_type": "code",
   "execution_count": 143,
   "metadata": {},
   "outputs": [
    {
     "data": {
      "text/plain": [
       "2"
      ]
     },
     "execution_count": 143,
     "metadata": {},
     "output_type": "execute_result"
    }
   ],
   "source": [
    "document_results = driver.find_elements_by_css_selector(\"#card > fieldset > div > fieldset\")\n",
    "len(document_results)"
   ]
  },
  {
   "cell_type": "code",
   "execution_count": 144,
   "metadata": {},
   "outputs": [
    {
     "name": "stdout",
     "output_type": "stream",
     "text": [
      "4\n",
      "6\n"
     ]
    },
    {
     "data": {
      "text/plain": [
       "['In the dog house', \"' 인기를 잃다 , 면목을 잃다\"]"
      ]
     },
     "execution_count": 144,
     "metadata": {},
     "output_type": "execute_result"
    }
   ],
   "source": [
    "documents = []\n",
    "for document_result in document_results:\n",
    "    words = document_result.find_elements_by_css_selector(\".container .word\")\n",
    "    print(len(words))\n",
    "    sentence_list = []\n",
    "    for word in words:\n",
    "        word = word.text.replace(\" \", \"\")\n",
    "        sentence_list.append(word)\n",
    "    documents.append(\" \".join(sentence_list))\n",
    "documents"
   ]
  },
  {
   "cell_type": "code",
   "execution_count": 145,
   "metadata": {},
   "outputs": [],
   "source": [
    "driver.quit()"
   ]
  },
  {
   "cell_type": "markdown",
   "metadata": {},
   "source": [
    "#### 참고자료\n",
    "- 패스트캠퍼스, ⟪데이터사이언스스쿨 8기⟫ 수업자료"
   ]
  }
 ],
 "metadata": {
  "kernelspec": {
   "display_name": "Python 3",
   "language": "python",
   "name": "python3"
  },
  "language_info": {
   "codemirror_mode": {
    "name": "ipython",
    "version": 3
   },
   "file_extension": ".py",
   "mimetype": "text/x-python",
   "name": "python",
   "nbconvert_exporter": "python",
   "pygments_lexer": "ipython3",
   "version": "3.6.5"
  }
 },
 "nbformat": 4,
 "nbformat_minor": 2
}
