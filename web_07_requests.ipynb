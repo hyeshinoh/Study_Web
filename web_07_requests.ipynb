{
 "cells": [
  {
   "cell_type": "markdown",
   "metadata": {},
   "source": [
    "# Requests"
   ]
  },
  {
   "cell_type": "markdown",
   "metadata": {},
   "source": [
    "- requests: 서버에 request 요청을 하고 response를 받는 패키지\n",
    "- [http://docs.python-requests.org/en/master/](http://docs.python-requests.org/en/master/)\n",
    "- mac은 설치 필요: `pip3 install requests`"
   ]
  },
  {
   "cell_type": "code",
   "execution_count": 25,
   "metadata": {},
   "outputs": [],
   "source": [
    "import requests\n",
    "import pickle"
   ]
  },
  {
   "cell_type": "markdown",
   "metadata": {},
   "source": [
    "## 1. 네이버 주식 데이터 가져오기\n",
    "- api를 사용해 json 파싱\n",
    "- 네이버 주식 페이지(모바일)에서 주식 데이터를 가져와 pandas dataframe으로 만들기\n",
    "- [http://m.stock.naver.com](http://m.stock.naver.com)\n",
    "- 증권-국내-코스피: http://m.stock.naver.com/sise/siseList.nhn?menu=market_sum&sosok=0\n",
    "- 개발자도구에서 request url을 복사해오기\n",
    "    - https://m.stock.naver.com/api/json/sise/siseListJson.nhn?menu=market_sum&sosok=0&pageSize=20&page=2"
   ]
  },
  {
   "cell_type": "markdown",
   "metadata": {},
   "source": [
    "### 1.1 make_url 함수\n",
    "- page_size와 page를 parameter로 받아 url을 만드는 함수"
   ]
  },
  {
   "cell_type": "code",
   "execution_count": 14,
   "metadata": {},
   "outputs": [
    {
     "data": {
      "text/plain": [
       "'http://m.stock.naver.com/api/json/sise/siseListJson.nhn?menu=market_sum&sosok=0&pageSize=10&page=1'"
      ]
     },
     "execution_count": 14,
     "metadata": {},
     "output_type": "execute_result"
    }
   ],
   "source": [
    "def make_url(page_size=10, page=1):\n",
    "    return \"http://m.stock.naver.com/api/json/sise/siseListJson.nhn?\\\n",
    "menu=market_sum&sosok=0&pageSize=\"+str(page_size)+\"&page=\"+str(page)\n",
    "\n",
    "\n",
    "make_url()"
   ]
  },
  {
   "cell_type": "markdown",
   "metadata": {},
   "source": [
    "### 1.2 get_data 함수\n",
    "- url을 parameter로 받아 pandas dataframe으로 만들어주는 함수"
   ]
  },
  {
   "cell_type": "code",
   "execution_count": 22,
   "metadata": {},
   "outputs": [],
   "source": [
    "def get_data(url):\n",
    "    \"\"\"\n",
    "    URL을 받으면 json으로 데이터를 가져와서 pandas dataframe 로 만들어주는 함수\n",
    "    \"\"\"\n",
    "    response = requests.get(url)   # response라는 obj. 안에 결과 데이터를 받아옴\n",
    "    json_info = response.json()    # json함수: 문자열 데이터를 json 형태로 parsing\n",
    "    companies = json_info[\"result\"][\"itemList\"]\n",
    "    df = pd.DataFrame(columns = [\"종목\",\"시세\",\"전일비\",\"등락율\",\"시가총액\",\"거래량\"])\n",
    "    for company in companies:\n",
    "        df.loc[len(df)] = {\n",
    "            \"종목\":company[\"nm\"],\n",
    "            \"시세\":company[\"nv\"],\n",
    "            \"전일비\":company[\"cv\"],\n",
    "            \"등락율\":company[\"cr\"],\n",
    "            \"시가총액\":company[\"mks\"],\n",
    "            \"거래량\":company[\"aq\"]\n",
    "        }\n",
    "    return df   "
   ]
  },
  {
   "cell_type": "code",
   "execution_count": 23,
   "metadata": {},
   "outputs": [
    {
     "data": {
      "text/html": [
       "<div>\n",
       "<style scoped>\n",
       "    .dataframe tbody tr th:only-of-type {\n",
       "        vertical-align: middle;\n",
       "    }\n",
       "\n",
       "    .dataframe tbody tr th {\n",
       "        vertical-align: top;\n",
       "    }\n",
       "\n",
       "    .dataframe thead th {\n",
       "        text-align: right;\n",
       "    }\n",
       "</style>\n",
       "<table border=\"1\" class=\"dataframe\">\n",
       "  <thead>\n",
       "    <tr style=\"text-align: right;\">\n",
       "      <th></th>\n",
       "      <th>종목</th>\n",
       "      <th>시세</th>\n",
       "      <th>전일비</th>\n",
       "      <th>등락율</th>\n",
       "      <th>시가총액</th>\n",
       "      <th>거래량</th>\n",
       "    </tr>\n",
       "  </thead>\n",
       "  <tbody>\n",
       "    <tr>\n",
       "      <th>95</th>\n",
       "      <td>KODEX 레버리지</td>\n",
       "      <td>14885</td>\n",
       "      <td>-170</td>\n",
       "      <td>-1.13</td>\n",
       "      <td>27120</td>\n",
       "      <td>5641593</td>\n",
       "    </tr>\n",
       "    <tr>\n",
       "      <th>96</th>\n",
       "      <td>대한항공</td>\n",
       "      <td>28100</td>\n",
       "      <td>0</td>\n",
       "      <td>0.00</td>\n",
       "      <td>26651</td>\n",
       "      <td>385938</td>\n",
       "    </tr>\n",
       "    <tr>\n",
       "      <th>97</th>\n",
       "      <td>TIGER 200</td>\n",
       "      <td>30135</td>\n",
       "      <td>-175</td>\n",
       "      <td>-0.58</td>\n",
       "      <td>26428</td>\n",
       "      <td>861828</td>\n",
       "    </tr>\n",
       "    <tr>\n",
       "      <th>98</th>\n",
       "      <td>OCI</td>\n",
       "      <td>110000</td>\n",
       "      <td>3000</td>\n",
       "      <td>2.80</td>\n",
       "      <td>26234</td>\n",
       "      <td>156276</td>\n",
       "    </tr>\n",
       "    <tr>\n",
       "      <th>99</th>\n",
       "      <td>두산</td>\n",
       "      <td>136500</td>\n",
       "      <td>-1500</td>\n",
       "      <td>-1.09</td>\n",
       "      <td>26205</td>\n",
       "      <td>54640</td>\n",
       "    </tr>\n",
       "  </tbody>\n",
       "</table>\n",
       "</div>"
      ],
      "text/plain": [
       "            종목      시세    전일비   등락율   시가총액      거래량\n",
       "95  KODEX 레버리지   14885   -170 -1.13  27120  5641593\n",
       "96        대한항공   28100      0  0.00  26651   385938\n",
       "97   TIGER 200   30135   -175 -0.58  26428   861828\n",
       "98         OCI  110000   3000  2.80  26234   156276\n",
       "99          두산  136500  -1500 -1.09  26205    54640"
      ]
     },
     "execution_count": 23,
     "metadata": {},
     "output_type": "execute_result"
    }
   ],
   "source": [
    "url = make_url(100, 1)\n",
    "df = get_data(url)\n",
    "df.tail()"
   ]
  },
  {
   "cell_type": "code",
   "execution_count": 1,
   "metadata": {},
   "outputs": [],
   "source": [
    "from pandas.io.json import json_normalize"
   ]
  },
  {
   "cell_type": "code",
   "execution_count": 11,
   "metadata": {},
   "outputs": [
    {
     "data": {
      "text/html": [
       "<div>\n",
       "<style scoped>\n",
       "    .dataframe tbody tr th:only-of-type {\n",
       "        vertical-align: middle;\n",
       "    }\n",
       "\n",
       "    .dataframe tbody tr th {\n",
       "        vertical-align: top;\n",
       "    }\n",
       "\n",
       "    .dataframe thead th {\n",
       "        text-align: right;\n",
       "    }\n",
       "</style>\n",
       "<table border=\"1\" class=\"dataframe\">\n",
       "  <thead>\n",
       "    <tr style=\"text-align: right;\">\n",
       "      <th></th>\n",
       "      <th>aa</th>\n",
       "      <th>aq</th>\n",
       "      <th>cd</th>\n",
       "      <th>cr</th>\n",
       "      <th>cv</th>\n",
       "      <th>mks</th>\n",
       "      <th>mt</th>\n",
       "      <th>nm</th>\n",
       "      <th>nv</th>\n",
       "      <th>pcv</th>\n",
       "      <th>rf</th>\n",
       "    </tr>\n",
       "  </thead>\n",
       "  <tbody>\n",
       "    <tr>\n",
       "      <th>95</th>\n",
       "      <td>645</td>\n",
       "      <td>38116</td>\n",
       "      <td>005690</td>\n",
       "      <td>-0.59</td>\n",
       "      <td>-100</td>\n",
       "      <td>10086</td>\n",
       "      <td>0</td>\n",
       "      <td>파미셀</td>\n",
       "      <td>16850</td>\n",
       "      <td>16950</td>\n",
       "      <td>5</td>\n",
       "    </tr>\n",
       "    <tr>\n",
       "      <th>96</th>\n",
       "      <td>420</td>\n",
       "      <td>9161</td>\n",
       "      <td>079550</td>\n",
       "      <td>-1.83</td>\n",
       "      <td>-850</td>\n",
       "      <td>10054</td>\n",
       "      <td>0</td>\n",
       "      <td>LIG넥스원</td>\n",
       "      <td>45700</td>\n",
       "      <td>46550</td>\n",
       "      <td>5</td>\n",
       "    </tr>\n",
       "    <tr>\n",
       "      <th>97</th>\n",
       "      <td>62</td>\n",
       "      <td>1383</td>\n",
       "      <td>226320</td>\n",
       "      <td>0.88</td>\n",
       "      <td>400</td>\n",
       "      <td>10011</td>\n",
       "      <td>0</td>\n",
       "      <td>잇츠한불</td>\n",
       "      <td>45650</td>\n",
       "      <td>45250</td>\n",
       "      <td>2</td>\n",
       "    </tr>\n",
       "    <tr>\n",
       "      <th>98</th>\n",
       "      <td>6966</td>\n",
       "      <td>72049</td>\n",
       "      <td>001820</td>\n",
       "      <td>2.02</td>\n",
       "      <td>1900</td>\n",
       "      <td>9969</td>\n",
       "      <td>0</td>\n",
       "      <td>삼화콘덴서</td>\n",
       "      <td>95900</td>\n",
       "      <td>94000</td>\n",
       "      <td>2</td>\n",
       "    </tr>\n",
       "    <tr>\n",
       "      <th>99</th>\n",
       "      <td>129</td>\n",
       "      <td>4536</td>\n",
       "      <td>001680</td>\n",
       "      <td>-0.18</td>\n",
       "      <td>-50</td>\n",
       "      <td>9875</td>\n",
       "      <td>0</td>\n",
       "      <td>대상</td>\n",
       "      <td>28500</td>\n",
       "      <td>28550</td>\n",
       "      <td>5</td>\n",
       "    </tr>\n",
       "  </tbody>\n",
       "</table>\n",
       "</div>"
      ],
      "text/plain": [
       "      aa     aq      cd    cr    cv    mks mt      nm     nv    pcv rf\n",
       "95   645  38116  005690 -0.59  -100  10086  0     파미셀  16850  16950  5\n",
       "96   420   9161  079550 -1.83  -850  10054  0  LIG넥스원  45700  46550  5\n",
       "97    62   1383  226320  0.88   400  10011  0    잇츠한불  45650  45250  2\n",
       "98  6966  72049  001820  2.02  1900   9969  0   삼화콘덴서  95900  94000  2\n",
       "99   129   4536  001680 -0.18   -50   9875  0      대상  28500  28550  5"
      ]
     },
     "execution_count": 11,
     "metadata": {},
     "output_type": "execute_result"
    }
   ],
   "source": [
    "def get_data(url):\n",
    "    \n",
    "    response = requests.get(url)\n",
    "    json_info = response.json()    # parsing\n",
    "    companies = json_info[\"result\"][\"itemList\"]\n",
    "    return json_normalize(companies)\n",
    "\n",
    "url = make_url(100, 2)\n",
    "df = get_data(url)\n",
    "df.tail()"
   ]
  },
  {
   "cell_type": "markdown",
   "metadata": {},
   "source": [
    "## 2. 공식적으로 제공되는 API 사용하기 - Dark Sky API\n",
    "- 날씨 정보를 알려주는 api - [https://darksky.net/dev](https://darksky.net/dev)\n",
    "    - 회원가입 필요, 하루에 1000건까지 무료로 사용 가능\n",
    "    - 사용법([Docs](https://darksky.net/dev/docs))\n",
    "        - Forecast Request: https://api.darksky.net/forecast/[key]/[latitude],[longitude]\n",
    "        - [key]: 회원가입시 부여받은 secret key 사용\n",
    "            - 요청할 때 token 값을 같이 query에 보내주어 API를 요청하는 사람이 누구인지 서비스 제공자가 판별\n",
    "\n",
    "- mac 설치: `pip3 install python-forecastio`\n",
    "- window 설치: \n",
    "    - `conda install -c auto python-forecastio`\n",
    "    - `conda install -c anaconda python-forecastio`\n",
    "    - `conda install -c conda-forge python-forecastio` \n",
    "    - `pip3 install python-forecastio`"
   ]
  },
  {
   "cell_type": "markdown",
   "metadata": {},
   "source": [
    "### 2.1 Preparation\n",
    "- import package & set request url\n",
    "- secret key(토큰)는 유출되어서는 안되니 pickle file로 저장해 이용"
   ]
  },
  {
   "cell_type": "code",
   "execution_count": 2,
   "metadata": {},
   "outputs": [],
   "source": [
    "import forecastio"
   ]
  },
  {
   "cell_type": "code",
   "execution_count": 27,
   "metadata": {},
   "outputs": [],
   "source": [
    "# FORECAST_TOKEN = \"본인이 발급받은 토큰\"\n",
    "# pickle.dump(FORECAST_TOKEN, open(\"FORECAST_TOKEN.pickle\", 'wb'))\n",
    "FORECAST_TOKEN = pickle.load(open('FORECAST_TOKEN.pickle', 'rb'))"
   ]
  },
  {
   "cell_type": "markdown",
   "metadata": {},
   "source": [
    "### 2.2 forecast 함수 사용\n",
    "- 위도와 경도를 parameter로 받는 forecast 함수 생성"
   ]
  },
  {
   "cell_type": "code",
   "execution_count": 29,
   "metadata": {},
   "outputs": [],
   "source": [
    "def forecast(lat, lng):\n",
    "    url = \"https://api.darksky.net/forecast/{}/{},{}\".format(FORECAST_TOKEN, lat, lng)\n",
    "    response = requests.get(url)\n",
    "    json_info = response.json()\n",
    "    return json_info[\"hourly\"][\"summary\"], json_info[\"timezone\"]"
   ]
  },
  {
   "cell_type": "code",
   "execution_count": 30,
   "metadata": {},
   "outputs": [
    {
     "data": {
      "text/plain": [
       "('Partly cloudy tomorrow afternoon.', 'Asia/Seoul')"
      ]
     },
     "execution_count": 30,
     "metadata": {},
     "output_type": "execute_result"
    }
   ],
   "source": [
    "lat = 37.512\n",
    "lng = 126.954\n",
    "forecast(lat, lng)"
   ]
  },
  {
   "cell_type": "markdown",
   "metadata": {},
   "source": [
    "### 2.3 forecastio 패키지 사용"
   ]
  },
  {
   "cell_type": "code",
   "execution_count": 31,
   "metadata": {},
   "outputs": [],
   "source": [
    "def forecast2(lat, lng):\n",
    "    forecast = forecastio.load_forecast(FORECAST_TOKEN, lat, lng, lang = 'ko')\n",
    "    byHour = forecast.hourly()\n",
    "    return byHour.summary"
   ]
  },
  {
   "cell_type": "code",
   "execution_count": 32,
   "metadata": {},
   "outputs": [
    {
     "data": {
      "text/plain": [
       "'내일 오후동안 약간 흐림'"
      ]
     },
     "execution_count": 32,
     "metadata": {},
     "output_type": "execute_result"
    }
   ],
   "source": [
    "lat = 37.512\n",
    "lng = 126.954\n",
    "forecast2(lat, lng)"
   ]
  },
  {
   "cell_type": "markdown",
   "metadata": {},
   "source": [
    "## 3. BeautifulSoup\n",
    "- BeautifulSoup Doc (https://www.crummy.com/software/BeautifulSoup/bs4/doc/)\n",
    "- 문자열로 되어있는 html 코드를 css selector나 xpath를 이용해서 특정 element의 데이터를 쉽게 가져올 수 있도록 하는 서비스 패키지\n",
    "- 설치: `pip3 install bs4`"
   ]
  },
  {
   "cell_type": "code",
   "execution_count": 33,
   "metadata": {},
   "outputs": [],
   "source": [
    "from bs4 import BeautifulSoup"
   ]
  },
  {
   "cell_type": "markdown",
   "metadata": {},
   "source": [
    "### 3.1 네이버 검색어 순위 크롤링\n",
    "- bs4 사용 : html을 특정 element를 CSS selector로 select할 수 있는 객체로 parsing\n",
    "- 네이버 검색어 순위를 가져와 데이터 프레임으로 만들기\n",
    "- [http://naver.com](http://naver.com)"
   ]
  },
  {
   "cell_type": "code",
   "execution_count": 34,
   "metadata": {},
   "outputs": [],
   "source": [
    "def naver_top20():\n",
    "    df = pd.DataFrame(columns=[\"rank\",\"keyword\"])\n",
    "    response = requests.get(\"http://naver.com\")\n",
    "    dom = BeautifulSoup(response.content, \"html.parser\")   #html.parser   # dom 객체\n",
    "    keywords = dom.select(\".ah_roll .ah_l .ah_item\")   \n",
    "        # CSS selector - selecting하는 방법은 다양\n",
    "        # select 쓰면 list로 리턴 (요소가 하나라도) | select_one은 하나의 element만 리턴\n",
    "        # len()을 찍어봐서 갯수가 맞게 나오는지 확인할 것\n",
    "    # keywords = dom.select(\".ah_roll_area > .ah_l > .ah_item\")  \n",
    "    for keyword in keywords:\n",
    "        df.loc[len(df)] = {\n",
    "            \"rank\": keyword.select_one(\".ah_r\").text,       \n",
    "            \"keyword\": keyword.select_one(\".ah_k\").text,\n",
    "            # .text - element 안의 시작태그와 끝 태그 사이 내용을 가져옴\n",
    "        }\n",
    "    return df"
   ]
  },
  {
   "cell_type": "code",
   "execution_count": 35,
   "metadata": {},
   "outputs": [
    {
     "data": {
      "text/html": [
       "<div>\n",
       "<style scoped>\n",
       "    .dataframe tbody tr th:only-of-type {\n",
       "        vertical-align: middle;\n",
       "    }\n",
       "\n",
       "    .dataframe tbody tr th {\n",
       "        vertical-align: top;\n",
       "    }\n",
       "\n",
       "    .dataframe thead th {\n",
       "        text-align: right;\n",
       "    }\n",
       "</style>\n",
       "<table border=\"1\" class=\"dataframe\">\n",
       "  <thead>\n",
       "    <tr style=\"text-align: right;\">\n",
       "      <th></th>\n",
       "      <th>rank</th>\n",
       "      <th>keyword</th>\n",
       "    </tr>\n",
       "  </thead>\n",
       "  <tbody>\n",
       "    <tr>\n",
       "      <th>15</th>\n",
       "      <td>16</td>\n",
       "      <td>박미선</td>\n",
       "    </tr>\n",
       "    <tr>\n",
       "      <th>16</th>\n",
       "      <td>17</td>\n",
       "      <td>하나뿐인 내편</td>\n",
       "    </tr>\n",
       "    <tr>\n",
       "      <th>17</th>\n",
       "      <td>18</td>\n",
       "      <td>중국 샤먼 여행</td>\n",
       "    </tr>\n",
       "    <tr>\n",
       "      <th>18</th>\n",
       "      <td>19</td>\n",
       "      <td>그녀로 말할 것 같으면</td>\n",
       "    </tr>\n",
       "    <tr>\n",
       "      <th>19</th>\n",
       "      <td>20</td>\n",
       "      <td>토익</td>\n",
       "    </tr>\n",
       "  </tbody>\n",
       "</table>\n",
       "</div>"
      ],
      "text/plain": [
       "   rank       keyword\n",
       "15   16           박미선\n",
       "16   17       하나뿐인 내편\n",
       "17   18      중국 샤먼 여행\n",
       "18   19  그녀로 말할 것 같으면\n",
       "19   20            토익"
      ]
     },
     "execution_count": 35,
     "metadata": {},
     "output_type": "execute_result"
    }
   ],
   "source": [
    "df = naver_top20()\n",
    "df.tail()"
   ]
  },
  {
   "cell_type": "markdown",
   "metadata": {},
   "source": [
    "10초마다 실시간 검색어를 크롤링해서 리스트로 저장하기"
   ]
  },
  {
   "cell_type": "code",
   "execution_count": 36,
   "metadata": {},
   "outputs": [
    {
     "name": "stdout",
     "output_type": "stream",
     "text": [
      "0\n",
      "1\n",
      "2\n"
     ]
    }
   ],
   "source": [
    "import time\n",
    "ls = []\n",
    "for idx in range(3):\n",
    "    print(idx)\n",
    "    df = naver_top20()\n",
    "    ls.append(df)\n",
    "    time.sleep(10)"
   ]
  },
  {
   "cell_type": "code",
   "execution_count": 37,
   "metadata": {},
   "outputs": [
    {
     "data": {
      "text/html": [
       "<div>\n",
       "<style scoped>\n",
       "    .dataframe tbody tr th:only-of-type {\n",
       "        vertical-align: middle;\n",
       "    }\n",
       "\n",
       "    .dataframe tbody tr th {\n",
       "        vertical-align: top;\n",
       "    }\n",
       "\n",
       "    .dataframe thead th {\n",
       "        text-align: right;\n",
       "    }\n",
       "</style>\n",
       "<table border=\"1\" class=\"dataframe\">\n",
       "  <thead>\n",
       "    <tr style=\"text-align: right;\">\n",
       "      <th></th>\n",
       "      <th>rank</th>\n",
       "      <th>keyword</th>\n",
       "    </tr>\n",
       "  </thead>\n",
       "  <tbody>\n",
       "    <tr>\n",
       "      <th>0</th>\n",
       "      <td>1</td>\n",
       "      <td>로또826회당첨번호</td>\n",
       "    </tr>\n",
       "    <tr>\n",
       "      <th>1</th>\n",
       "      <td>2</td>\n",
       "      <td>맨유 웨스트햄</td>\n",
       "    </tr>\n",
       "    <tr>\n",
       "      <th>2</th>\n",
       "      <td>3</td>\n",
       "      <td>그것이 알고싶다</td>\n",
       "    </tr>\n",
       "    <tr>\n",
       "      <th>3</th>\n",
       "      <td>4</td>\n",
       "      <td>류현진</td>\n",
       "    </tr>\n",
       "    <tr>\n",
       "      <th>4</th>\n",
       "      <td>5</td>\n",
       "      <td>아는형님</td>\n",
       "    </tr>\n",
       "    <tr>\n",
       "      <th>5</th>\n",
       "      <td>6</td>\n",
       "      <td>그녀로 말할 것 같으면</td>\n",
       "    </tr>\n",
       "    <tr>\n",
       "      <th>6</th>\n",
       "      <td>7</td>\n",
       "      <td>플레이어</td>\n",
       "    </tr>\n",
       "    <tr>\n",
       "      <th>7</th>\n",
       "      <td>8</td>\n",
       "      <td>로또825회당첨번호</td>\n",
       "    </tr>\n",
       "    <tr>\n",
       "      <th>8</th>\n",
       "      <td>9</td>\n",
       "      <td>맨유</td>\n",
       "    </tr>\n",
       "    <tr>\n",
       "      <th>9</th>\n",
       "      <td>10</td>\n",
       "      <td>epl</td>\n",
       "    </tr>\n",
       "    <tr>\n",
       "      <th>10</th>\n",
       "      <td>11</td>\n",
       "      <td>토트넘</td>\n",
       "    </tr>\n",
       "    <tr>\n",
       "      <th>11</th>\n",
       "      <td>12</td>\n",
       "      <td>tvn온에어</td>\n",
       "    </tr>\n",
       "    <tr>\n",
       "      <th>12</th>\n",
       "      <td>13</td>\n",
       "      <td>제3의 매력</td>\n",
       "    </tr>\n",
       "    <tr>\n",
       "      <th>13</th>\n",
       "      <td>14</td>\n",
       "      <td>미스터 션샤인</td>\n",
       "    </tr>\n",
       "    <tr>\n",
       "      <th>14</th>\n",
       "      <td>15</td>\n",
       "      <td>첼시 리버풀</td>\n",
       "    </tr>\n",
       "    <tr>\n",
       "      <th>15</th>\n",
       "      <td>16</td>\n",
       "      <td>중국 샤먼 여행</td>\n",
       "    </tr>\n",
       "    <tr>\n",
       "      <th>16</th>\n",
       "      <td>17</td>\n",
       "      <td>박미선</td>\n",
       "    </tr>\n",
       "    <tr>\n",
       "      <th>17</th>\n",
       "      <td>18</td>\n",
       "      <td>하나뿐인 내편</td>\n",
       "    </tr>\n",
       "    <tr>\n",
       "      <th>18</th>\n",
       "      <td>19</td>\n",
       "      <td>아프리카tv</td>\n",
       "    </tr>\n",
       "    <tr>\n",
       "      <th>19</th>\n",
       "      <td>20</td>\n",
       "      <td>중국 샤먼</td>\n",
       "    </tr>\n",
       "  </tbody>\n",
       "</table>\n",
       "</div>"
      ],
      "text/plain": [
       "   rank       keyword\n",
       "0     1    로또826회당첨번호\n",
       "1     2       맨유 웨스트햄\n",
       "2     3      그것이 알고싶다\n",
       "3     4           류현진\n",
       "4     5          아는형님\n",
       "5     6  그녀로 말할 것 같으면\n",
       "6     7          플레이어\n",
       "7     8    로또825회당첨번호\n",
       "8     9            맨유\n",
       "9    10           epl\n",
       "10   11           토트넘\n",
       "11   12        tvn온에어\n",
       "12   13        제3의 매력\n",
       "13   14       미스터 션샤인\n",
       "14   15        첼시 리버풀\n",
       "15   16      중국 샤먼 여행\n",
       "16   17           박미선\n",
       "17   18       하나뿐인 내편\n",
       "18   19        아프리카tv\n",
       "19   20         중국 샤먼"
      ]
     },
     "execution_count": 37,
     "metadata": {},
     "output_type": "execute_result"
    }
   ],
   "source": [
    "ls[2]"
   ]
  },
  {
   "cell_type": "markdown",
   "metadata": {},
   "source": [
    "### 3.2 다음 검색어 순위\n",
    "- 다음 검색어 순위를 가져와서 네이버 검색어 순위와 중복되는 키워드만 출력하기\n",
    "- http://daum.net"
   ]
  },
  {
   "cell_type": "markdown",
   "metadata": {},
   "source": [
    "#### 다음 실시간 검색어 순위 가져오기"
   ]
  },
  {
   "cell_type": "code",
   "execution_count": 51,
   "metadata": {},
   "outputs": [],
   "source": [
    "def daum_top10():\n",
    "    df = pd.DataFrame(columns=[\"rank\",\"keyword\"])\n",
    "    response = requests.get(\"http://daum.net\")\n",
    "    dom = BeautifulSoup(response.content, \"html.parser\")   \n",
    "    keywords = dom.select(\"#mArticle > div.cmain_tmp > div.section_media > div.hotissue_builtin > div.realtime_part > ol > li\")\n",
    "    print(len(keywords))\n",
    "    for keyword in keywords:\n",
    "        df.loc[len(df)] = {\n",
    "            \"rank\":keyword.select_one(\".ir_wa\").text.replace(\"위\",\"\"),\n",
    "            \"keyword\":keyword.select_one(\".link_issue\").text,\n",
    "        }\n",
    "    return df"
   ]
  },
  {
   "cell_type": "code",
   "execution_count": 53,
   "metadata": {},
   "outputs": [
    {
     "name": "stdout",
     "output_type": "stream",
     "text": [
      "10\n"
     ]
    },
    {
     "data": {
      "text/html": [
       "<div>\n",
       "<style scoped>\n",
       "    .dataframe tbody tr th:only-of-type {\n",
       "        vertical-align: middle;\n",
       "    }\n",
       "\n",
       "    .dataframe tbody tr th {\n",
       "        vertical-align: top;\n",
       "    }\n",
       "\n",
       "    .dataframe thead th {\n",
       "        text-align: right;\n",
       "    }\n",
       "</style>\n",
       "<table border=\"1\" class=\"dataframe\">\n",
       "  <thead>\n",
       "    <tr style=\"text-align: right;\">\n",
       "      <th></th>\n",
       "      <th>rank</th>\n",
       "      <th>keyword</th>\n",
       "    </tr>\n",
       "  </thead>\n",
       "  <tbody>\n",
       "    <tr>\n",
       "      <th>0</th>\n",
       "      <td>1</td>\n",
       "      <td>중국 샤먼</td>\n",
       "    </tr>\n",
       "    <tr>\n",
       "      <th>1</th>\n",
       "      <td>2</td>\n",
       "      <td>양희은</td>\n",
       "    </tr>\n",
       "    <tr>\n",
       "      <th>2</th>\n",
       "      <td>3</td>\n",
       "      <td>826회 로또 당첨 번호</td>\n",
       "    </tr>\n",
       "    <tr>\n",
       "      <th>3</th>\n",
       "      <td>4</td>\n",
       "      <td>김민정</td>\n",
       "    </tr>\n",
       "    <tr>\n",
       "      <th>4</th>\n",
       "      <td>5</td>\n",
       "      <td>플레이어</td>\n",
       "    </tr>\n",
       "    <tr>\n",
       "      <th>5</th>\n",
       "      <td>6</td>\n",
       "      <td>경리</td>\n",
       "    </tr>\n",
       "    <tr>\n",
       "      <th>6</th>\n",
       "      <td>7</td>\n",
       "      <td>여자배구</td>\n",
       "    </tr>\n",
       "    <tr>\n",
       "      <th>7</th>\n",
       "      <td>8</td>\n",
       "      <td>일본 태풍</td>\n",
       "    </tr>\n",
       "    <tr>\n",
       "      <th>8</th>\n",
       "      <td>9</td>\n",
       "      <td>주이</td>\n",
       "    </tr>\n",
       "    <tr>\n",
       "      <th>9</th>\n",
       "      <td>10</td>\n",
       "      <td>송병준</td>\n",
       "    </tr>\n",
       "  </tbody>\n",
       "</table>\n",
       "</div>"
      ],
      "text/plain": [
       "  rank        keyword\n",
       "0    1          중국 샤먼\n",
       "1    2            양희은\n",
       "2    3  826회 로또 당첨 번호\n",
       "3    4            김민정\n",
       "4    5           플레이어\n",
       "5    6             경리\n",
       "6    7           여자배구\n",
       "7    8          일본 태풍\n",
       "8    9             주이\n",
       "9   10            송병준"
      ]
     },
     "execution_count": 53,
     "metadata": {},
     "output_type": "execute_result"
    }
   ],
   "source": [
    "df_daum = daum_top10()\n",
    "df_daum"
   ]
  },
  {
   "cell_type": "markdown",
   "metadata": {},
   "source": [
    "#### 네이버 실시간 검색어와 중복되는 키워드 추출하기\n",
    "- 여러가지 방법이 있음"
   ]
  },
  {
   "cell_type": "code",
   "execution_count": 66,
   "metadata": {},
   "outputs": [
    {
     "data": {
      "text/plain": [
       "['중국 샤먼', '플레이어']"
      ]
     },
     "execution_count": 66,
     "metadata": {},
     "output_type": "execute_result"
    }
   ],
   "source": [
    "df_naver = df\n",
    "\n",
    "result = [keyword for keyword in df_daum[\"keyword\"] \n",
    "          if keyword in df_naver[\"keyword\"].tolist()]\n",
    "result"
   ]
  },
  {
   "cell_type": "code",
   "execution_count": 61,
   "metadata": {},
   "outputs": [
    {
     "data": {
      "text/plain": [
       "['중국 샤먼', '플레이어']"
      ]
     },
     "execution_count": 61,
     "metadata": {},
     "output_type": "execute_result"
    }
   ],
   "source": [
    "result = [keyword for keyword in df_daum[\"keyword\"] \n",
    "          if df_naver[\"keyword\"].str.contains(keyword).any()]\n",
    "result"
   ]
  },
  {
   "cell_type": "code",
   "execution_count": 69,
   "metadata": {},
   "outputs": [
    {
     "data": {
      "text/plain": [
       "['중국 샤먼', '플레이어']"
      ]
     },
     "execution_count": 69,
     "metadata": {},
     "output_type": "execute_result"
    }
   ],
   "source": [
    "list(set(df_daum[\"keyword\"]) & set(df_naver[\"keyword\"]))"
   ]
  },
  {
   "cell_type": "markdown",
   "metadata": {},
   "source": [
    "## 4. url 링크로 파일 다운로드 받는 방법\n",
    "- 이미지 파일이나 영상 파일을 다운로드 받고 싶으면 이 방법 사용\n",
    "- 용량이 큰 파일을 받을 때는 chunk를 이용해서 파일을 쪼개서 다운로드 \n",
    "    - 쪼개서 받지 않으면 에러가 나거나 하는 경우 처음부터 다시 받아야 함"
   ]
  },
  {
   "cell_type": "code",
   "execution_count": 71,
   "metadata": {},
   "outputs": [],
   "source": [
    "def download(title, download_url):\n",
    "    response = requests.get(download_url, stream=True)\n",
    "    size = 0\n",
    "    with open(title, 'wb') as f:\n",
    "        for chunk in response.iter_content(chunk_size=1024): #1024 byte 단위로 쪼개서 받음\n",
    "            if chunk:\n",
    "                size += 1024\n",
    "                f.write(chunk)\n",
    "    return size            "
   ]
  },
  {
   "cell_type": "markdown",
   "metadata": {},
   "source": [
    "Youtube 영상은 영상 링크에서 \"www.\"를 빼고 \"ss\"를 붙이면 다운로드 받을 수 있으므로, 여기서 다운로드 링크를 가져오기"
   ]
  },
  {
   "cell_type": "code",
   "execution_count": 73,
   "metadata": {},
   "outputs": [
    {
     "data": {
      "text/plain": [
       "22.06"
      ]
     },
     "execution_count": 73,
     "metadata": {},
     "output_type": "execute_result"
    }
   ],
   "source": [
    "title = \"Tiffany_TeachYou.mp4\"\n",
    "download_url = \"https://bit.ly/2P1YDPT\"\n",
    "size = download(title, download_url)\n",
    "round(size/1024/1024, 2)    # byte 단위를 megabyte 단위로 만들어 줌"
   ]
  },
  {
   "cell_type": "markdown",
   "metadata": {},
   "source": [
    "#### 결론: 크롤링을 많이 연습해보자!!"
   ]
  },
  {
   "cell_type": "markdown",
   "metadata": {},
   "source": [
    "#### 참고자료\n",
    "- 패스트캠퍼스, ⟪데이터사이언스스쿨 8기⟫ 수업자료"
   ]
  }
 ],
 "metadata": {
  "kernelspec": {
   "display_name": "Python 3",
   "language": "python",
   "name": "python3"
  },
  "language_info": {
   "codemirror_mode": {
    "name": "ipython",
    "version": 3
   },
   "file_extension": ".py",
   "mimetype": "text/x-python",
   "name": "python",
   "nbconvert_exporter": "python",
   "pygments_lexer": "ipython3",
   "version": "3.6.5"
  }
 },
 "nbformat": 4,
 "nbformat_minor": 2
}
